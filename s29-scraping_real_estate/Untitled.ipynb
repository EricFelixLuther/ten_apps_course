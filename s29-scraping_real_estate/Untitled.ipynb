{
 "cells": [
  {
   "cell_type": "code",
   "execution_count": 12,
   "metadata": {},
   "outputs": [],
   "source": [
    "import requests\n",
    "from bs4 import BeautifulSoup\n",
    "import pandas\n",
    "\n",
    "base_url = \"http://www.pyclass.com/real-estate/rock-springs-wy/LCWYROCKSPRINGS/#t=0&s=\"\n",
    "\n",
    "alist = []\n",
    "\n",
    "for page in range(0, 30, 10):\n",
    "    r = requests.get(\n",
    "        base_url + str(page),\n",
    "        headers={\n",
    "            'User-agent': 'Mozilla/5.0 (X11; Ubuntu; Linux x86_64; rv:61.0) Gecko/20100101 Firefox/61.0'\n",
    "        }\n",
    "    )\n",
    "    soup = BeautifulSoup(r.content, 'html.parser')\n",
    "    #print(soup.prettify())\n",
    "    divs = soup.find_all('div', {'class': 'propertyRow'})\n",
    "\n",
    "    for item in divs:\n",
    "        prop = {}\n",
    "        prop['Price'] = item.find('h4', {'class': 'propPrice'}).text.strip()\n",
    "        prop['Address'] = item.find_all('span', {'class': 'propAddressCollapse'})[0].text\n",
    "        prop['Locality'] = item.find_all('span', {'class': 'propAddressCollapse'})[1].text\n",
    "        prop['Beds'] = item.find('span', {'class': 'infoBed'}).find('b').text if item.find('span', {'class': 'infoBed'}) else None\n",
    "        prop['Area'] = item.find('span', {'class': 'infoSqFt'}).find('b').text if item.find('span', {'class': 'infoSqFt'}) else None\n",
    "        prop['Full baths'] = item.find('span', {'class': 'infoValueFullBath'}).find('b').text if item.find('span', {'class': 'infoValueFullBath'}) else None\n",
    "        prop['Half baths'] = item.find('span', {'class': 'infoValueHalfBath'}).find('b').text if item.find('span', {'class': 'infoValueHalfBath'}) else None\n",
    "\n",
    "        for column_group in item.find_all('div', {'class': 'columnGroup'}):\n",
    "            for feature_group, feature_name in zip(\n",
    "                column_group.find_all('span', {'class': 'featureGroup'}),\n",
    "                column_group.find_all('span', {'class': 'featureName'})\n",
    "            ):\n",
    "                if \"Lot Size\" in feature_group.text:\n",
    "                    prop['Lot size'] = feature_name.text\n",
    "        alist.append(prop)\n"
   ]
  },
  {
   "cell_type": "code",
   "execution_count": 13,
   "metadata": {},
   "outputs": [],
   "source": [
    "df = pandas.DataFrame(alist)\n",
    "df"
   ]
  },
  {
   "cell_type": "code",
   "execution_count": 15,
   "metadata": {},
   "outputs": [],
   "source": [
    "df.to_csv('real_estate.csv')"
   ]
  }
 ],
 "metadata": {
  "kernelspec": {
   "display_name": "Python 3",
   "language": "python",
   "name": "python3"
  },
  "language_info": {
   "codemirror_mode": {
    "name": "ipython",
    "version": 3
   },
   "file_extension": ".py",
   "mimetype": "text/x-python",
   "name": "python",
   "nbconvert_exporter": "python",
   "pygments_lexer": "ipython3",
   "version": "3.7.3"
  }
 },
 "nbformat": 4,
 "nbformat_minor": 4
}
